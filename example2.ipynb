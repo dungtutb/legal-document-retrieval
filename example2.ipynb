{
 "cells": [
  {
   "cell_type": "code",
   "execution_count": 1,
   "metadata": {},
   "outputs": [],
   "source": [
    "import os\n",
    "\n",
    "import numpy as np\n",
    "import pandas as pd\n",
    "import torch\n",
    "import torch.nn as nn\n",
    "from tqdm.auto import tqdm\n",
    "from transformers import AutoModelForQuestionAnswering, pipeline\n",
    "\n",
    "from bm25_utils import BM25Gensim\n",
    "from pairwise_model import PairwiseModel\n",
    "from text_utils import preprocess\n",
    "\n",
    "tqdm.pandas()"
   ]
  },
  {
   "cell_type": "code",
   "execution_count": null,
   "metadata": {},
   "outputs": [],
   "source": [
    "data_path = \"./legal\"\n",
    "df_wiki_windows = pd.read_csv(\"./train/processed/lagal_2024_10_31_cleaned_v2.csv\")\n",
    "corpus_df = pd.read_csv(os.path.join(data_path, \"corpus.csv\"))\n",
    "train_df = pd.read_csv(os.path.join(data_path, \"train.csv\"))\n",
    "test_df = pd.read_csv(os.path.join(data_path, \"public_test.csv\"))\n",
    "bm25_model_stage1 = BM25Gensim(\"./train/processed/bm25_stage1/\", None, None)"
   ]
  },
  {
   "cell_type": "code",
   "execution_count": 3,
   "metadata": {},
   "outputs": [
    {
     "name": "stderr",
     "output_type": "stream",
     "text": [
      "c:\\Users\\Admin\\Desktop\\work\\projects\\hackathon\\zac2022-e2e-qa\\env\\lib\\site-packages\\transformers\\modeling_utils.py:399: FutureWarning: You are using `torch.load` with `weights_only=False` (the current default value), which uses the default pickle module implicitly. It is possible to construct malicious pickle data which will execute arbitrary code during unpickling (See https://github.com/pytorch/pytorch/blob/main/SECURITY.md#untrusted-models for more details). In a future release, the default value for `weights_only` will be flipped to `True`. This limits the functions that could be executed during unpickling. Arbitrary objects will no longer be allowed to be loaded via this mode unless they are explicitly allowlisted by the user via `torch.serialization.add_safe_globals`. We recommend you start setting `weights_only=True` for any use case where you don't have full control of the loaded file. Please open an issue on GitHub for any issues related to this experimental feature.\n",
      "  return torch.load(checkpoint_file, map_location=\"cpu\")\n",
      "Some weights of the model checkpoint at nguyenvulebinh/vi-mrc-base were not used when initializing RobertaModel: ['qa_outputs.bias', 'qa_outputs.weight']\n",
      "- This IS expected if you are initializing RobertaModel from the checkpoint of a model trained on another task or with another architecture (e.g. initializing a BertForSequenceClassification model from a BertForPreTraining model).\n",
      "- This IS NOT expected if you are initializing RobertaModel from the checkpoint of a model that you expect to be exactly identical (initializing a BertForSequenceClassification model from a BertForSequenceClassification model).\n",
      "Some weights of RobertaModel were not initialized from the model checkpoint at nguyenvulebinh/vi-mrc-base and are newly initialized: ['roberta.pooler.dense.bias', 'roberta.pooler.dense.weight']\n",
      "You should probably TRAIN this model on a down-stream task to be able to use it for predictions and inference.\n",
      "C:\\Users\\Admin\\AppData\\Local\\Temp\\ipykernel_27544\\3640416710.py:2: FutureWarning: You are using `torch.load` with `weights_only=False` (the current default value), which uses the default pickle module implicitly. It is possible to construct malicious pickle data which will execute arbitrary code during unpickling (See https://github.com/pytorch/pytorch/blob/main/SECURITY.md#untrusted-models for more details). In a future release, the default value for `weights_only` will be flipped to `True`. This limits the functions that could be executed during unpickling. Arbitrary objects will no longer be allowed to be loaded via this mode unless they are explicitly allowlisted by the user via `torch.serialization.add_safe_globals`. We recommend you start setting `weights_only=True` for any use case where you don't have full control of the loaded file. Please open an issue on GitHub for any issues related to this experimental feature.\n",
      "  pairwise_model_stage1.load_state_dict(torch.load(\"./data/pairwise_v2.bin\"))\n"
     ]
    },
    {
     "data": {
      "text/plain": [
       "PairwiseModel(\n",
       "  (model): RobertaModel(\n",
       "    (embeddings): RobertaEmbeddings(\n",
       "      (word_embeddings): Embedding(250002, 768, padding_idx=1)\n",
       "      (position_embeddings): Embedding(514, 768, padding_idx=1)\n",
       "      (token_type_embeddings): Embedding(1, 768)\n",
       "      (LayerNorm): LayerNorm((768,), eps=1e-05, elementwise_affine=True)\n",
       "      (dropout): Dropout(p=0.1, inplace=False)\n",
       "    )\n",
       "    (encoder): RobertaEncoder(\n",
       "      (layer): ModuleList(\n",
       "        (0-11): 12 x RobertaLayer(\n",
       "          (attention): RobertaAttention(\n",
       "            (self): RobertaSelfAttention(\n",
       "              (query): Linear(in_features=768, out_features=768, bias=True)\n",
       "              (key): Linear(in_features=768, out_features=768, bias=True)\n",
       "              (value): Linear(in_features=768, out_features=768, bias=True)\n",
       "              (dropout): Dropout(p=0.1, inplace=False)\n",
       "            )\n",
       "            (output): RobertaSelfOutput(\n",
       "              (dense): Linear(in_features=768, out_features=768, bias=True)\n",
       "              (LayerNorm): LayerNorm((768,), eps=1e-05, elementwise_affine=True)\n",
       "              (dropout): Dropout(p=0.1, inplace=False)\n",
       "            )\n",
       "          )\n",
       "          (intermediate): RobertaIntermediate(\n",
       "            (dense): Linear(in_features=768, out_features=3072, bias=True)\n",
       "            (intermediate_act_fn): GELUActivation()\n",
       "          )\n",
       "          (output): RobertaOutput(\n",
       "            (dense): Linear(in_features=3072, out_features=768, bias=True)\n",
       "            (LayerNorm): LayerNorm((768,), eps=1e-05, elementwise_affine=True)\n",
       "            (dropout): Dropout(p=0.1, inplace=False)\n",
       "          )\n",
       "        )\n",
       "      )\n",
       "    )\n",
       "    (pooler): RobertaPooler(\n",
       "      (dense): Linear(in_features=768, out_features=768, bias=True)\n",
       "      (activation): Tanh()\n",
       "    )\n",
       "  )\n",
       "  (fc): Linear(in_features=768, out_features=1, bias=True)\n",
       ")"
      ]
     },
     "execution_count": 3,
     "metadata": {},
     "output_type": "execute_result"
    }
   ],
   "source": [
    "pairwise_model_stage1 = PairwiseModel(\"nguyenvulebinh/vi-mrc-base\").half()\n",
    "pairwise_model_stage1.load_state_dict(torch.load(\"./data/pairwise_v2.bin\"))\n",
    "pairwise_model_stage1.eval()"
   ]
  },
  {
   "cell_type": "code",
   "execution_count": 4,
   "metadata": {},
   "outputs": [],
   "source": [
    "class QAModel(nn.Module):\n",
    "\n",
    "    def __init__(self, model_name, model_checkpoint=None, thr=0.1, device=\"cuda:0\"):\n",
    "        super(QAModel, self).__init__()\n",
    "        model = AutoModelForQuestionAnswering.from_pretrained(model_name).half()\n",
    "        if model_checkpoint:\n",
    "            model.load_state_dict(torch.load(model_checkpoint))\n",
    "        self.nlp = pipeline(\n",
    "            \"question-answering\",\n",
    "            model=model,\n",
    "            tokenizer=model_name,\n",
    "            device=int(device.split(\":\")[-1]),\n",
    "        )\n",
    "\n",
    "        self.thr = thr\n",
    "\n",
    "    def forward(self, question, texts):\n",
    "\n",
    "        curr_answers = []\n",
    "        curr_scores = []\n",
    "\n",
    "        for text in texts:\n",
    "            QA_input = {\"question\": question, \"context\": text}\n",
    "            res = self.nlp(QA_input)\n",
    "\n",
    "            curr_answers.append(res[\"answer\"])\n",
    "            curr_scores.append(res[\"score\"])\n",
    "\n",
    "        return curr_scores, curr_answers"
   ]
  },
  {
   "cell_type": "code",
   "execution_count": 5,
   "metadata": {},
   "outputs": [],
   "source": [
    "thr = 0.1\n",
    "topk = 10\n",
    "model_name = \"nguyenvulebinh/vi-mrc-large\"\n",
    "qa_model = QAModel(model_name, thr=thr)\n"
   ]
  },
  {
   "cell_type": "code",
   "execution_count": 6,
   "metadata": {},
   "outputs": [],
   "source": [
    "def get_answer_e2e(question):\n",
    "    # Bm25 retrieval for top200 candidates\n",
    "    query = question.lower()\n",
    "    top_n, bm25_scores = bm25_model_stage1.get_topk_stage1(query, topk=200)\n",
    "    cids = [df_wiki_windows.cid.values[i] for i in top_n]\n",
    "    texts = [corpus_df.text.values[df_wiki_windows.i.values[i]] for i in top_n]\n",
    "\n",
    "    # Reranking with pairwise model for top100\n",
    "    question = preprocess(question)\n",
    "    ranking_preds = pairwise_model_stage1.stage1_ranking(question, texts)\n",
    "    ranking_scores = ranking_preds * bm25_scores\n",
    "    best_idxs = np.argsort(ranking_scores)[::-1][:100]\n",
    "    cids = np.array(cids)[best_idxs]\n",
    "    texts = np.array(texts)[best_idxs]\n",
    "    ranking_scores =  np.array(ranking_scores)[best_idxs]\n",
    "\n",
    "    # Question answering for top10\n",
    "    curr_scores, curr_answers = qa_model(question, texts)\n",
    "    curr_scores = np.array(curr_scores)*ranking_scores\n",
    "    \n",
    "    best_idxs = np.argsort(curr_scores)[::-1][:10]\n",
    "\n",
    "    curr_scores = np.array(curr_scores)[best_idxs]\n",
    "    curr_answers = np.array(curr_answers)[best_idxs]\n",
    "    cids = cids[best_idxs]\n",
    "    texts = texts[best_idxs]\n",
    "\n",
    "    return curr_scores, cids, texts, curr_answers"
   ]
  },
  {
   "cell_type": "code",
   "execution_count": 31,
   "metadata": {},
   "outputs": [
    {
     "name": "stdout",
     "output_type": "stream",
     "text": [
      "Việc tổ chức hội nghị cung cấp thông tin về phát triển sản phẩm trên môi trường mạng được thực hiện theo quy mô như thế nào?\n",
      "['Tổ chức, tham gia các hoạt động xúc tiến thương mại trên môi trường mạng\\n...\\n5. Tổ chức hội nghị, hội thảo, tọa đàm, diễn đàn cung cấp thông tin về phát triển sản phẩm, ngành hàng, thị trường trên môi trường mạng\\n...\\nb) Quy mô: Tối thiểu 100 đơn vị Việt Nam tham gia đối với chương trình cung cấp thông tin về phát triển sản phẩm, thị trường xuất khẩu; tối thiểu 50 đơn vị nước ngoài đối với chương trình cung cấp thông tin sản phẩm, ngành hàng của Việt Nam.\\n...']\n"
     ]
    }
   ],
   "source": [
    "id = 712\n",
    "print(train_df.iloc[id].question)\n",
    "print(train_df.iloc[id].context)"
   ]
  },
  {
   "cell_type": "code",
   "execution_count": 32,
   "metadata": {},
   "outputs": [],
   "source": [
    "from graph_utils import find_best_cluster\n",
    "ranking_scores, cids, texts, curr_answers = get_answer_e2e(train_df.iloc[id].question)"
   ]
  },
  {
   "cell_type": "code",
   "execution_count": 33,
   "metadata": {},
   "outputs": [
    {
     "name": "stdout",
     "output_type": "stream",
     "text": [
      "Tối\n"
     ]
    },
    {
     "data": {
      "text/plain": [
       "'Tổ chức, tham gia các hoạt động xúc tiến thương mại trên môi trường mạng\\n...\\n5. Tổ chức hội nghị, hội thảo, tọa đàm, diễn đàn cung cấp thông tin về phát triển sản phẩm, ngành hàng, thị trường trên môi trường mạng\\n...\\nb) Quy mô: Tối thiểu 100 đơn vị Việt Nam tham gia đối với chương trình cung cấp thông tin về phát triển sản phẩm, thị trường xuất khẩu; tối thiểu 50 đơn vị nước ngoài đối với chương trình cung cấp thông tin sản phẩm, ngành hàng của Việt Nam.\\n...'"
      ]
     },
     "execution_count": 33,
     "metadata": {},
     "output_type": "execute_result"
    }
   ],
   "source": [
    "best_answer = find_best_cluster(curr_answers, curr_answers[0])\n",
    "index = list(curr_answers).index(best_answer)\n",
    "print(best_answer)\n",
    "texts[index]"
   ]
  },
  {
   "cell_type": "code",
   "execution_count": 34,
   "metadata": {},
   "outputs": [
    {
     "name": "stdout",
     "output_type": "stream",
     "text": [
      "['1. Tổ chức, cá nhân được khai thác, sử dụng thông tin, dữ liệu về nhà ở và thị trường bất động sản qua mạng Internet, trang điện tử không phải trả chi phí khai thác, sử dụng thông tin, dữ liệu đối với các trường hợp sau:\\na) Khai thác, sử dụng danh mục thông tin, dữ liệu về nhà ở và thị trường bất động sản;\\nb) Khai thác, sử dụng thông tin, dữ liệu về nhà ở và thị trường bất động sản theo quy định của pháp Luật được công khai, phổ biến rộng rãi.\\n2. Đối với các thông tin, dữ liệu ngoài quy định tại khoản 1 Điều này, tổ chức, cá nhân được đăng ký cấp quyền truy cập khai thác, sử dụng qua mạng Internet, trang điện tử. Cơ quan quản lý cơ sở dữ liệu về nhà ở và thị trường bất động sản cấp quyền truy cập cho các tổ chức, cá nhân đăng ký phù hợp với đối tượng và mục đích sử dụng theo quy định.\\nTrình tự đăng ký và cấp quyền khai thác, sử dụng thông tin, dữ liệu về nhà ở và thị trường bất động sản thông qua mạng internet, trang điện tử được thực hiện như sau:\\na) Tổ chức, cá nhân có nhu cầu đăng ký cấp quyền khai thác, sử dụng thông tin, dữ liệu về nhà ở và thị trường bất động sản (gọi tắt là Bên yêu cầu) gửi phiếu yêu cầu cho cơ quan, đơn vị được giao quản lý, cung cấp thông tin, dữ liệu về nhà ở và thị trường bất động sản (gọi tắt là Bên cung cấp) theo các hình thức sau:\\n- Nộp trực tiếp theo hình thức văn bản cho Bên cung cấp;\\n- Gửi qua đường công văn, fax, bưu điện;\\n- Đăng ký trực tuyến trên trang thông tin điện tử của Bên cung cấp.\\nPhiếu yêu cầu, văn bản yêu cầu theo mẫu quy định tại Phụ lục III của Thông tư này;\\nb) Trong vòng 03 ngày làm việc kể từ ngày nhận được yêu cầu đăng ký cấp quyền khai thác, sử dụng thông tin, dữ liệu về nhà ở và thị trường bất động sản hợp lệ, Bên cung cấp thông báo chi phí sử dụng dịch vụ (nếu có); trường hợp từ chối cung cấp quyền khai thác, sử dụng, Bên cung cấp phải trả lời nêu rõ lý do;\\nc) Bên cung cấp gửi cho Bên yêu cầu tài khoản truy cập tra cứu thông tin, dữ liệu trong thời hạn không quá 07 ngày làm việc kể từ khi nhận được yêu cầu hoặc thời điểm Bên yêu cầu thanh toán chi phí sử dụng dịch vụ (nếu có);\\n3. Tổ chức, cá nhân được cấp quyền truy cập có trách nhiệm:\\na) Truy cập đúng địa chỉ, mã khóa; không được làm lộ địa chỉ, mã khóa truy cập đã được cấp;\\nb) Chỉ được khai thác, sử dụng thông tin, dữ liệu trong phạm vi được cấp, không xâm nhập trái phép cơ sở dữ liệu về nhà ở và thị trường bất động sản; sử dụng thông tin, dữ liệu đúng mục đích;\\nc) Quản lý nội dung các thông tin, dữ liệu đã khai thác, không được cung cấp cho tổ chức, cá nhân khác trừ trường hợp được phép của cơ quan quản lý cơ sở dữ liệu về nhà ở và thị trường bất động sản;\\nd) Không được thay đổi, xóa, hủy, sao chép, tiết lộ, hiển thị, di chuyển trái phép một phần hoặc toàn bộ dữ liệu; không được tạo ra hoặc phát tán chương trình phần mềm làm ảnh hưởng, sai lệch cơ sở dữ liệu về nhà ở và thị trường bất động sản; thông báo kịp thời cho cơ quan quản lý dữ liệu về những sai sót của thông tin, dữ liệu đã được cung cấp;\\nđ) Thực hiện thanh toán chi phí dịch vụ cung cấp thông tin, dữ liệu về nhà ở và thị trường bất động sản theo quy định (nếu có);\\ne) Tuân theo các quy định của pháp Luật về bảo vệ bí mật nhà nước; chịu trách nhiệm về sai phạm trong khai thác, sử dụng thông tin, dữ liệu.\\n4. Trong trường hợp tạm ngừng cung cấp thông tin, dữ liệu, dịch vụ có liên quan trên môi trường mạng, Bên cung cấp có trách nhiệm:\\na) Trừ trường hợp bất khả kháng, phải thông báo công khai chậm nhất là 07 ngày làm việc trước khi chủ động tạm ngừng cung cấp thông tin, dữ liệu, dịch vụ có liên quan trên môi trường mạng để sửa chữa, khắc phục các sự cố hoặc nâng cấp, mở rộng cơ sở hạ tầng thông tin; nội dung thông báo phải nêu rõ khoảng thời gian dự kiến phục hồi các hoạt động cung cấp thông tin, dữ liệu, dịch vụ có liên quan trên môi trường mạng;\\nb) Tiến hành các biện pháp khắc phục sự cố ngay sau khi hệ thống thông tin của mình bị lỗi trong quá trình hoạt động làm ảnh hưởng hoặc gây ngừng cung cấp thông tin, dữ liệu, dịch vụ có liên quan trên môi trường mạng.\\n5. Việc cung cấp, khai thác, sử dụng thông tin, dữ liệu về nhà ở và thị trường bất động sản qua mạng Internet, trang điện tử phải tuân thủ theo đúng các quy định của Luật Giao dịch điện tử, Luật Công nghệ thông tin và các văn bản hướng dẫn thi hành.'\n",
      " 'b) Hướng dẫn, tổ chức thực hiện cơ chế, chính sách, chiến lược, kế hoạch, chương trình, đề án quốc gia về ứng dụng công nghệ thông tin trong cơ quan nhà nước, xây dựng Chính phủ điện tử, Chính phủ số; hướng dẫn, thẩm định, kiểm tra, đánh giá việc xây dựng, tổ chức triển khai các chương trình, kế hoạch, đề án, dự án về ứng dụng công nghệ thông tin, xây dựng Chính phủ điện tử, Chính phủ số của các bộ, ngành, địa phương theo thẩm quyền; đánh giá, kiểm định chất lượng các sản phẩm, giải pháp ứng dụng công nghệ thông tin. Xây dựng, duy trì, cập nhật, tổ chức thực hiện Khung Kiến trúc Chính phủ điện tử Việt Nam, Khung tham chiếu ICT phát triển đô thị thông minh; hướng dẫn, giám sát, hỗ trợ các hoạt động quản trị dữ liệu, chia sẻ, khai thác dữ liệu trong cơ quan nhà nước; xây dựng, vận hành phòng thử nghiệm hệ thống thông tin; xây dựng, quản lý và vận hành nền tảng tích hợp, chia sẻ dữ liệu quốc gia, Cổng dữ liệu quốc gia, nền tảng giám sát, đo lường mức độ cung cấp và sử dụng dịch vụ Chính phủ số, nền tảng điện toán đám mây Chính phủ và các nền tảng số phục vụ xây dựng Chính phủ điện tử, Chính phủ số theo thẩm quyền;\\nc) Hướng dẫn, tổ chức thực hiện cơ chế, chính sách, pháp luật, chiến lược, kế hoạch, chương trình, đề án quốc gia về kinh tế số, thúc đẩy ứng dụng công nghệ thông tin, chuyển đổi số doanh nghiệp theo quy định của pháp luật;\\nd) Hướng dẫn, tổ chức thực hiện cơ chế, chính sách, chiến lược, pháp luật, kế hoạch, chương trình, đề án quốc gia về xã hội số, thúc đẩy ứng dụng công nghệ thông tin, hoạt động tuân thủ các quy tắc ứng xử trên môi trường số trong xã hội và cộng đồng.\\n16. Về an toàn thông tin mạng\\na) Quản lý về an toàn thông tin; bảo đảm an toàn thông tin cho các hệ thống thông tin, các hoạt động ứng dụng và phát triển công nghệ thông tin; phòng, chống thư rác; bảo đảm an toàn thông tin cá nhân trên mạng; bảo vệ trẻ em trên không gian mạng; tổ chức thực hiện chức năng quản lý, điều phối các hoạt động ứng cứu sự cố an toàn thông tin mạng trên toàn quốc; chủ trì điều phối ứng cứu khẩn cấp bảo đảm an toàn thông tin mạng quốc gia theo quy định của pháp luật;\\nb) Quản lý các hoạt động sản xuất, kinh doanh sản phẩm và dịch vụ an toàn thông tin; quản lý hoạt động kiểm định, đánh giá, cấp chứng nhận về an toàn thông tin; cấp, gia hạn, sửa đổi, bổ sung, tạm đình chỉ, đình chỉ, thu hồi giấy phép kinh doanh sản phẩm, dịch vụ an toàn thông tin mạng (trừ sản phẩm, dịch vụ mật mã dân sự; sản phẩm, dịch vụ an ninh mạng) theo quy định của pháp luật;\\nc) Quản lý chất lượng sản phẩm, dịch vụ an toàn thông tin mạng (trừ sản phẩm, dịch vụ mật mã dân sự; sản phẩm, dịch vụ an ninh mạng) theo quy định của pháp luật;'\n",
      " 'Tổ chức, tham gia các hoạt động xúc tiến thương mại trên môi trường mạng\\n...\\n5. Tổ chức hội nghị, hội thảo, tọa đàm, diễn đàn cung cấp thông tin về phát triển sản phẩm, ngành hàng, thị trường trên môi trường mạng\\n...\\nb) Quy mô: Tối thiểu 100 đơn vị Việt Nam tham gia đối với chương trình cung cấp thông tin về phát triển sản phẩm, thị trường xuất khẩu; tối thiểu 50 đơn vị nước ngoài đối với chương trình cung cấp thông tin sản phẩm, ngành hàng của Việt Nam.\\n...'\n",
      " 'Khoản 5. Tổ chức hội nghị, hội thảo, tọa đàm, diễn đàn cung cấp thông tin về phát triển sản phẩm, ngành hàng, thị trường trên môi trường mạng\\na) Nội dung thực hiện - Tuyên truyền, quảng bá, mời các đơn vị tham gia; - Thuê nền tảng trực tuyến, đường truyền mạng; - Thuê hội trường, thiết bị, trang trí, phiên dịch, biên dịch; - Thuê báo cáo viên, thuyết trình viên; - Tổ chức, quản lý của đơn vị chủ trì.\\nb) Quy mô: Tối thiểu 100 đơn vị Việt Nam tham gia đối với chương trình cung cấp thông tin về phát triển sản phẩm, thị trường xuất khẩu; tối thiểu 50 đơn vị nước ngoài đối với chương trình cung cấp thông tin sản phẩm, ngành hàng của Việt Nam.\\nc) Nội dung hỗ trợ Hỗ trợ tối đa 100% kinh phí thực hiện các nội dung sau: - Tuyên truyền, quảng bá, mời các đơn vị tham gia; - Thuê nền tảng trực tuyến, đường truyền mạng; - Thuê báo cáo viên, thuyết trình viên: Thù lao, công tác phí; - Tổ chức, quản lý của đơn vị chủ trì: Chi phí cho cán bộ tổ chức, thuê tư vấn đấu thầu (nếu có), bưu chính, điện thoại, văn phòng phẩm.'\n",
      " 'Công bố công nghệ mới, sản phẩm mới tạo ra tại Việt Nam từ kết quả nghiên cứu khoa học và phát triển công nghệ\\n1. Tổ chức, cá nhân đề nghị đánh giá, thẩm định công nghệ mới, sản phẩm mới nộp hồ sơ trực tiếp hoặc gửi qua đường bưu điện đến cơ quan có thẩm quyền (01 bản giấy và 01 bản điện tử). Hồ sơ gồm:\\na) Văn bản đề nghị đánh giá, thẩm định công nghệ mới, sản phẩm mới;\\nb) Tài liệu chứng minh quyền sở hữu hợp pháp đối với công nghệ mới, sản phẩm mới hoặc văn bản cam kết trong trường hợp không có tài liệu chứng minh;\\nc) Tài liệu mô tả đặc tính, hiệu quả về kỹ thuật, chất lượng, so sánh với tính năng tương ứng của công nghệ, sản phẩm nhập khẩu tương đương hoặc đang được sử dụng tại nước khác;\\nd) Báo cáo kết quả ứng dụng công nghệ mới, sản phẩm mới;\\nđ) Các tài liệu sau (nếu có): Văn bản nhận xét của tổ chức, cá nhân về hiệu quả ứng dụng công nghệ mới, sản phẩm mới; giải thưởng; tài liệu về sở hữu trí tuệ, tiêu chuẩn, đo lường, chất lượng và tài liệu liên quan khác.\\n2. Nội dung đánh giá, thẩm định:\\na) Việc tuân thủ các quy định pháp luật về quyền sở hữu; quyền sở hữu trí tuệ; tiêu chuẩn, đo lường, chất lượng; kết quả kiểm nghiệm, điều kiện lưu hành;\\nb) So sánh về giá của công nghệ mới, sản phẩm mới so với công nghệ, sản phẩm nhập khẩu;\\nc) Đặc tính, hiệu quả về kỹ thuật, chất lượng, so sánh với tính năng tương ứng của công nghệ, sản phẩm nhập khẩu tương đương hoặc đang được sử dụng tại nước khác;\\nd) Phạm vi, quy mô ứng dụng, chuyển giao; giá trị kinh tế - xã hội, môi trường, quốc phòng, an ninh trong điều kiện cụ thể của đất nước, địa phương.\\n3. Trình tự, thủ tục xem xét, đánh giá hồ sơ được thực hiện theo quy định tương ứng tại khoản 6 Điều 20 Nghị định này.\\n4. Bộ Khoa học và Công nghệ quyết định công bố công nghệ mới, sản phẩm mới được tạo ra tại Việt Nam có giá, chất lượng tương đương với công nghệ, sản phẩm nhập khẩu và đăng trên Cổng thông tin điện tử.\\n5. Khuyến khích các cơ quan, tổ chức sử dụng công nghệ mới, sản phẩm mới tạo ra tại Việt Nam đã được công bố theo quy định tại khoản 4 Điều này trong dự án đầu tư sử dụng ngân sách nhà nước, ưu tiên trong đấu thầu mua sắm, cung cấp sản phẩm, dịch vụ công.\\n6. Bộ Khoa học và Công nghệ ban hành biểu mẫu để thực hiện thủ tục quy định tại Điều này.'\n",
      " 'Điều 21. Quyền lợi. Trong thời hạn của Giấy chứng nhận, cơ sở công nghiệp nông thôn được hưởng các quyền lợi:\\n1. Được phép in hoặc dán nhãn Logo của Chương trình bình chọn sản phẩm công nghiệp nông thôn tiêu biểu trên sản phẩm hoặc bao bì của sản phẩm được công nhận.\\n2. Được tặng thưởng bằng tiền mặt từ nguồn kinh phí khuyến công và các nguồn kinh phí hợp pháp khác (nếu có).\\na) Mức thưởng bằng tiền từ nguồn kinh phí khuyến công quốc gia cho cơ sở công nghiệp nông thôn có sản phẩm được công nhận là sản phẩm công nghiệp nông thôn tiêu biểu cấp khu vực, cấp quốc gia theo quy định tại Điểm g, Khoản 2, Điều 6 Thông tư liên tịch số 26/2014/TTLT/BTC-BCT;\\nb) Mức thưởng bằng tiền từ nguồn kinh phí khuyến công địa phương cho cơ sở công nghiệp nông thôn có sản phẩm được công nhận là sản phẩm công nghiệp nông thôn tiêu biểu cấp huyện, cấp tỉnh theo quy định của Ủy ban nhân dân cấp tỉnh.\\n3. Được ưu tiên xét hỗ trợ từ nguồn kinh phí khuyến công quốc gia và kinh phí khuyến công địa phương để phát triển sản phẩm theo quy định tại Khoản 2, Điều 6 Nghị định số 45/2012/NĐ-CP ngày 21 tháng 5 năm 2012 của Chính phủ về khuyến công và các văn bản có liên quan.\\n4. Được tư vấn, tiếp cận các chính sách hỗ trợ, ưu đãi đầu tư khác của Nhà nước cho đầu tư phát triển sản phẩm công nghiệp nông thôn tiêu biểu theo quy định.\\n5. Được đăng tải thông tin giới thiệu về sản phẩm trên các phương tiện thông tin ở địa phương và Trung ương, cụ thể:\\na) Ở địa phương: Được đăng thông tin giới thiệu về sản phẩn trên các phương tiện truyền thông như: Bản tin Công Thương địa phương; Trang thông tin điện tử của Sở Công Thương, Trung tâm Khuyến công và các phương tiện truyền thông khác của tỉnh, thành phố theo quy định;\\nb) Ở Trung ương: Các cơ sở công nghiệp nông thôn có sản phẩm được công nhận là sản phẩm công nghiệp nông thôn tiêu biểu cấp khu vực và cấp quốc gia được đăng thông tin giới thiệu về sản phẩm trên các phương tiện truyền thông như: Bản tin khuyến công, Trang thông tin điện tử của Cục Công nghiệp địa phương, Bộ Công Thương và các phương tiện truyền thông khác theo quy định.'\n",
      " 'Các Bộ trưởng, Thủ trưởng cơ quan ngang bộ, Thủ trưởng cơ quan thuộc Chính phủ; Chủ tịch Ủy ban nhân dân tỉnh, thành phố trực thuộc trung ương; Chủ tịch Hội đồng quản trị, Chủ tịch Hội đồng thành viên và Tổng giám đốc (Giám đốc) tổ chức tín dụng, chi nhánh ngân hàng nước ngoài; Chủ tịch Hội đồng quản trị, Chủ tịch Hội đồng thành viên, Chủ tịch công ty và Tổng giám đốc (Giám đốc) Công ty thông tin tín dụng và tổ chức, cá nhân có liên quan chịu trách nhiệm thi hành Nghị định này.\\nPHỤ LỤC I\\nNỘI DUNG VĂN BẢN THỎA THUẬN CUNG CẤP THÔNG TIN TÍN DỤNG CHO CÔNG TY THÔNG TIN TÍN DỤNG\\n(Kèm theo Nghị định số 58/2021/NĐ-CP ngày 10 tháng 6 năm 2021 của Chính phủ)\\nCăn cứ quy định của Chính phủ về hoạt động cung ứng dịch vụ thông tin tín dụng và các quy định pháp luật khác liên quan, tổ chức tham gia và khách hàng vay cùng bàn bạc, thống nhất ký kết văn bản thỏa thuận để thực hiện cung cấp thông tin tín dụng cho công ty thông tin tín dụng với những nội dung tối thiểu như sau (02 Bên có thể thỏa thuận bổ sung các nội dung khác phù hợp với quy định pháp luật):\\n1. Bên A: Bên sở hữu thông tin tín dụng\\na) Đối với khách hàng vay là cá nhân gồm các thông tin: Họ tên; số chứng minh nhân dân/căn cước công dân/hộ chiếu; nơi cư trú; số điện thoại/ fax/email.\\nb) Đối với khách hàng vay là tổ chức gồm các thông tin: Tên tổ chức; số, ngày cấp Giấy chứng nhận đăng ký doanh nghiệp (nếu có); nơi đặt trụ sở chính; người đại diện theo pháp luật.\\n2. Bên B: Tổ chức tham gia gồm các thông tin: Tên tổ chức; số, ngày cấp Giấy chứng nhận đăng ký doanh nghiệp (nếu có); nơi đặt trụ sở chính; người đại diện theo pháp luật.\\n3. Nội dung thỏa thuận gồm:\\na) Bên A đồng ý cho Bên B cung cấp thông tin tín dụng của Bên A tại Bên B cho công ty thông tin tín dụng mà Bên B đang là tổ chức tham gia (hoặc dự kiến là tổ chức tham gia).\\nb) Bên B có trách nhiệm thông báo với Bên A thông tin về công ty thông tin tín dụng tại điểm a khoản này (bao gồm: Tên công ty thông tin tín dụng; số, ngày cấp Giấy chứng nhận đăng ký doanh nghiệp và thông tin khác liên quan) ít nhất tại mốc thời gian sau:\\n- Tại thời điểm ký kết văn bản thỏa thuận này (nếu có thông tin);\\n- Trong thời hạn tối đa 10 ngày làm việc, kể từ ngày Bên B cam kết cung cấp thông tin tín dụng với một công ty thông tin tín dụng.\\nc) Nội dung thông tin tín dụng được cung cấp và việc thực hiện cung cấp thông tin tín dụng của Bên B cho công ty thông tin tín dụng (đảm bảo phù hợp với quy định của Chính phủ về hoạt động cung ứng dịch vụ thông tin tín dụng và các quy định pháp luật khác liên quan).\\nd) Khi công ty thông tin tín dụng (tại điểm b khoản này) bị thu hồi Giấy chứng nhận, Bên B sẽ ngừng cung cấp thông tin tín dụng của Bên A cho công ty thông tin tín dụng và Bên A đồng ý thông tin tín dụng của Bên A tại công ty thông tin tín dụng được xử lý theo quy định của Chính phủ về hoạt động cung ứng dịch vụ thông tin tín dụng.\\nBên B có trách nhiệm thông báo với Bên A về việc xử lý thông tin tín dụng của Bên A trong thời hạn tối đa 10 ngày làm việc, kể từ ngày Bên B nhận được thông báo của công ty thông tin tín dụng về phương án xử lý thông tin tín dụng.\\nđ) Các nội dung khác theo thỏa thuận giữa 02 Bên.\\nPHỤ LỤC II\\nNỘI DUNG VĂN BẢN THỎA THUẬN VỀ VIỆC CÔNG TY THÔNG TIN TÍN DỤNG CUNG CẤP SẢN PHẨM THÔNG TIN TÍN DỤNG\\n(Kèm theo Nghị định số 58/2021/NĐ-CP ngày 10 tháng 6 năm 2021 của Chính phủ)\\nCăn cứ quy định của Chính phủ về hoạt động cung ứng dịch vụ thông tin tín dụng và các quy định pháp luật khác liên quan, tổ chức tham gia và khách hàng vay cùng bàn bạc, thống nhất ký kết văn bản thỏa thuận về việc công ty thông tin tín dụng cung cấp sản phẩm thông tin tín dụng có thông tin định danh của khách hàng vay cho tổ chức tham gia với những nội dung tối thiểu như sau (02 Bên có thể thỏa thuận bổ sung các nội dung khác phù hợp với quy định pháp luật):\\n1. Bên A: Bên sở hữu thông tin tín dụng\\na) Đối với khách hàng vay là cá nhân gồm các thông tin: Họ tên; số chứng minh nhân dân/căn cước công dân/hộ chiếu; nơi cư trú; số điện thoại/ fax/email.\\nb) Đối với khách hàng vay là tổ chức gồm các thông tin: Tên tổ chức; số, ngày cấp Giấy chứng nhận đăng ký doanh nghiệp (nếu có); nơi đặt trụ sở chính; người đại diện theo pháp luật.\\n2. Bên B: Bên có nhu cầu được cung cấp thông tin tín dụng gồm các thông tin: Tên tổ chức; số, ngày cấp Giấy chứng nhận đăng ký doanh nghiệp (nếu có); nơi đặt trụ sở chính; người đại diện theo pháp luật.\\n3. Nội dung thỏa thuận gồm các nội dung sau:\\na) Bên A đồng ý cho Bên B được công ty thông tin tín dụng cung cấp sản phẩm thông tin tín dụng có thông tin định danh của Bên A (thông tin công ty thông tin tín dụng gồm: Tên công ty thông tin tín dụng; số, ngày cấp Giấy chứng nhận đăng ký doanh nghiệp).\\nb) Nội dung thông tin tín dụng được cung cấp, việc sử dụng sản phẩm thông tin tín dụng có thông tin định danh của Bên A được công ty thông tin tín dụng cung cấp (đảm bảo phù hợp với quy định của Chính phủ về hoạt động cung ứng dịch vụ thông tin tín dụng và các quy định pháp luật khác liên quan).\\n4. Các nội dung khác theo thỏa thuận giữa 02 Bên.\\nPHỤ LỤC III\\nMẪU BÁO CÁO TÌNH HÌNH HOẠT ĐỘNG\\n(Kèm theo Nghị định số 58/2021/NĐ-CP ngày 10 tháng 6 năm 2021 của Chính phủ)\\nBÁO CÁO TÌNH HÌNH HOẠT ĐỘNG\\n(Quý... Năm...) hoặc (Năm...)\\nKính gửi: Ngân hàng Nhà nước Việt Nam.\\nI. TÌNH HÌNH THỰC HIỆN HOẠT ĐỘNG CUNG ỨNG DỊCH VỤ THÔNG TIN TÍN DỤNG\\n1. Danh mục, cơ cấu sản phẩm.\\n2. Danh sách chi tiết nguồn thu thập thông tin.\\n3. Danh sách các tổ chức tham gia cam kết cung cấp thông tin.\\n4. Phân loại và số lượng khách hàng vay theo từng nhóm khách hàng vay.\\n5. Số lượng sản phẩm cung cấp cho từng nhóm đối tượng sử dụng.\\n6. Tình hình vận hành thiết bị công nghệ, bảo đảm an toàn thông tin dữ liệu.\\n7. Nội dung khác (nếu có).\\nII. ĐỀ XUẤT, KIẾN NGHỊ ĐỐI VỚI NGÂN HÀNG NHÀ NƯỚC VIỆT NAM\\nPHỤ LỤC IV\\nMẪU BÁO CÁO SỰ CỐ TIN HỌC/THAY ĐỔI THÔNG TIN\\n(Kèm theo Nghị định số 58/2021/NĐ-CP ngày 10 tháng 6 năm 2021 của Chính phủ)\\nBÁO CÁO SỰ CỐ TIN HỌC/THAY ĐỔI THÔNG TIN\\nKính gửi: Ngân hàng Nhà nước Việt Nam.\\nI. THÔNG TIN VỀ SỰ CỐ TIN HỌC/HOẶC THAY ĐỔI THÔNG TIN\\n1. Mô tả sự cố/hoặc nội dung thay đổi thông tin\\n- Mô tả sự cố về hư hỏng, trục trặc về phần mềm, phần cứng; hệ thống mạng bị tấn công... khiến hệ thống không còn đáng tin cậy, hoạt động bất bình thường.\\n- Nội dung thay đổi: người quản lý doanh nghiệp, thành viên Ban kiểm soát; thỏa thuận về quy trình thu thập, xử lý, lưu giữ và cung cấp thông tin tín dụng giữa Công ty thông tin tín dụng với các tổ chức tham gia đã cam kết; cơ sở hạ tầng về công nghệ thông tin.\\n- Nội dung khác (nếu có).\\n2. Biện pháp xử lý:\\nII. ĐỀ XUẤT, KIẾN NGHỊ ĐỐI VỚI NGÂN HÀNG NHÀ NƯỚC VIỆT NAM\\nPHỤ LỤC V\\nMẪU ĐƠN ĐỀ NGHỊ CẤP GIẤY CHỨNG NHẬN ĐỦ ĐIỀU KIỆN HOẠT ĐỘNG CUNG ỨNG DỊCH VỤ THÔNG TIN TÍN DỤNG\\n(Kèm theo Nghị định số 58/2021/NĐ-CP ngày 10 tháng 6 năm 2021 của Chính phủ)\\nĐƠN ĐỀ NGHỊ CẤP GIẤY CHỨNG NHẬN ĐỦ ĐIỀU KIỆN HOẠT ĐỘNG CUNG ỨNG DỊCH VỤ THÔNG TIN TÍN DỤNG\\nKính gửi: Ngân hàng Nhà nước Việt Nam.\\nCăn cứ Nghị định số ..../……/NĐ-CP ngày ... tháng ... năm ... của Chính phủ về hoạt động cung ứng dịch vụ thông tin tín dụng, doanh nghiệp...(1) đề nghị Ngân hàng Nhà nước Việt Nam xem xét cấp Giấy chứng nhận đủ điều kiện hoạt động cung ứng dịch vụ thông tin tín dụng sau đây:\\n1. Tên của công ty thông tin tín dụng:\\n- Tên đầy đủ bằng tiếng Việt: ……………………………………………………………………..\\n- Tên viết tắt bằng tiếng Việt (nếu có): …………………………………………………………..\\n- Tên đầy đủ bằng tiếng Anh (nếu có): …………………………………………………………..\\n- Tên viết tắt bằng tiếng Anh (nếu có): …………………………………………………………..\\n- Tên giao dịch (nếu có): …………………………………………………………………………..\\n2. Số, ngày cấp Giấy chứng nhận đăng ký doanh nghiệp: ……………………………………\\n3. Người đại diện theo pháp luật: ……………………… Chức danh: ………………………...\\n4. Địa điểm đặt trụ sở chính, số điện thoại, số fax, email: …………………………………….\\n5. Nội dung hoạt động: …………………………………………………………………………….\\n6. Vốn điều lệ: ………………………………………………………………………………………\\n7. Tài khoản phong tỏa đã mở tại Ngân hàng thương mại chi nhánh ……………………….\\n- Số hiệu tài khoản: ………………………………………………………………………………..\\n- Số vốn đã gửi: …………………………………………………………………………………….\\nSau khi được cấp Giấy chứng nhận đủ điều kiện hoạt động cung ứng dịch vụ thông tin tín dụng, chúng tôi sẽ thực hiện khai trương hoạt động và công bố thông tin theo quy định của pháp luật.\\nChúng tôi cam kết chấp hành nghiêm chỉnh các quy định của pháp luật, của Ngân hàng Nhà nước Việt Nam và Điều lệ công ty thông tin tín dụng, nếu vi phạm xin chịu trách nhiệm trước pháp luật.\\nGhi chú:\\n(1) Tên công ty thông tin tín dụng.\\nPHỤ LỤC VI\\nMẪU BẢN KÊ DANH SÁCH NGƯỜI QUẢN LÝ DOANH NGHIỆP, THÀNH VIÊN BAN KIỂM SOÁT VÀ LÝ LỊCH TÓM TẮT\\n(Kèm theo Nghị định số 58/2021/NĐ-CP ngày 10 tháng 6 năm 2021 của Chính phủ)\\nBẢN KÊ DANH SÁCH NGƯỜI QUẢN LÝ DOANH NGHIỆP VÀ THÀNH VIÊN BAN KIỂM SOÁT\\nGhi chú:\\n(1) Tên công ty thông tin tín dụng.\\n(2) Danh sách người quản lý doanh nghiệp, thành viên Ban kiểm soát tại thời điểm nộp hồ sơ.\\n(3) Chức danh của người quản lý doanh nghiệp, thành viên Ban kiểm soát tại công ty thông tin tín dụng.\\nCỘNG HÒA XÃ HỘI CHỦ NGHĨA VIỆT NAM Độc lập - Tự do - Hạnh phúc  ---------------\\nLÝ LỊCH TÓM TẮT\\n1. Về bản thân\\n- Quốc tịch (các quốc tịch hiện có) ……..………………………………………………………..\\n- Địa chỉ đăng ký hộ khẩu thường trú; địa chỉ theo chứng minh nhân dân/căn cước công dân; Nơi ở hiện nay …………………………………………………………………………\\n- Số chứng minh thư/căn cước công dân, nơi cấp, ngày cấp hoặc số hộ chiếu hoặc số giấy tờ chứng thực cá nhân khác ………………………………………………………..\\n- Tên và địa chỉ tổ chức mà mình đại diện, tỷ lệ vốn góp, vốn cổ phần được đại diện (trường hợp là người đại diện phần vốn góp, vốn cổ phần).\\n2. Trình độ học vấn\\nTên trường; tên thành phố, quốc gia nơi trường đặt trụ sở chính; tên khóa học; thời gian học; tên bằng (liệt kê nhưng bằng cấp, chương trình đào tạo liên quan đến tiêu chuẩn, điều kiện của chức danh được bầu, bổ nhiệm và bản sao văn bằng, chứng chỉ).\\n3. Quá trình công tác\\n- Quá trình công tác, nghề nghiệp và chức vụ đã qua (từ năm 18 tuổi đến nay) làm gì, ở đâu, tóm tắt đặc điểm chính (kèm tài liệu chứng minh chức vụ và thời gian làm việc phù hợp với các điều kiện quy định tại khoản 3 Điều 9 Nghị định này).\\n- Chức vụ hiện nay đang nắm giữ tại công ty thông tin tín dụng và các tổ chức khác.\\n- Đơn vị công tác; chức vụ; các trách nhiệm chính (liệt kê các đơn vị công tác và chức danh nắm giữ tại các đơn vị này đảm bảo tính liên tục về mặt thời gian).\\n- Khen thưởng, kỷ luật (nếu có).\\n4. Cam kết trước pháp luật\\n- Tôi, ……………………, cam kết không vi phạm các quy định của pháp luật, của Ngân hàng Nhà nước Việt Nam và Điều lệ công ty thông tin tín dụng... (1)\\n- Tôi cam kết những lời khai trên là đúng sự thật. Tôi xin chịu hoàn toàn trách nhiệm đối với bất kỳ thông tin nào không đúng với sự thật tại bản khai này.\\nGhi chú: Ngoài những nội dung cơ bản trên, người khai có thể bổ sung các nội dung khác nếu thấy cần thiết.\\nPHỤ LỤC VII\\nMẪU PHƯƠNG ÁN KINH DOANH\\n(Kèm theo Nghị định số 58/2021/NĐ-CP ngày 10 tháng 6 năm 2021 của Chính phủ)\\nPHƯƠNG ÁN KINH DOANH\\nCăn cứ Nghị định số ..../……/NĐ-CP ngày ... tháng ... năm ... của Chính phủ về hoạt động cung ứng dịch vụ thông tin tín dụng, doanh nghiệp (1)... lập Phương án kinh doanh hoạt động cung ứng dịch vụ thông tin tín dụng như sau:\\n1. Sự cần thiết thành lập công ty.\\n2. Tên công ty, địa điểm đặt trụ sở chính, thời gian hoạt động, vốn điều lệ khi thành lập, nội dung hoạt động (không kinh doanh ngành nghề khác ngoài hoạt động cung ứng dịch vụ thông tin tín dụng).\\n3. Cơ cấu người quản lý doanh nghiệp, thành viên Ban kiểm soát\\na) Sơ đồ tổ chức bộ máy hoạt động của công ty;\\nb) Nhân sự dự kiến của các chức danh của từng cá nhân là người quản lý doanh nghiệp, thành viên Ban kiểm soát.\\n4. Năng lực quản lý rủi ro\\na) Các loại rủi ro dự kiến phát sinh trong quá trình hoạt động (rủi ro hoạt động, rủi ro đạo đức, rủi ro thị trường);\\nb) Khả năng biện pháp phòng ngừa và kiểm soát các loại rủi ro phát sinh trong hoạt động cung ứng dịch vụ thông tin tín dụng.\\n5. Cơ sở hạ tầng thông tin\\na) Danh mục và bản thuyết minh cho cơ sở hạ tầng thông tin;\\nb) Dự kiến đầu tư tài chính cho cơ sở hạ tầng thông tin;\\nc) Mô tả khả năng áp dụng công nghệ thông tin, loại hình công nghệ dự kiến áp dụng trong quá trình hoạt động từ khâu thu thập, xử lý thông tin, tạo lập sản phẩm thông tin đến truyền đưa, lưu giữ dữ liệu thông tin; dự kiến cán bộ và khả năng của cán bộ trong việc áp dụng công nghệ thông tin;\\nd) Hệ thống phần mềm tin học và các giải pháp kỹ thuật để sắp xếp, mã hóa cơ sở dữ liệu đáp ứng yêu cầu bảo mật, an toàn thông tin, bảo vệ dữ liệu;\\nđ) Hệ thống dự phòng thảm họa có thể bảo đảm duy trì mọi hoạt động công nghệ thông tin của công ty thông tin tín dụng khi xảy ra sự cố với thời gian gián đoạn ngắn nhất.\\n6. Khả năng thu thập, xử lý, lưu giữ thông tin tín dụng, tạo lập và cung cấp sản phẩm thông tin tín dụng\\na) Dự kiến về nguồn, phạm vi, phương thức thu thập thông tin; các tổ chức, cá nhân đã cam kết cung cấp thông tin và khả năng duy trì, phát triển các đơn vị cung cấp thông tin;\\nb) Các sản phẩm dự kiến cung cấp, đối tượng sử dụng và khả năng duy trì, phát triển đối tượng sử dụng sản phẩm;\\nc) Mô tả quy trình xử lý thông tin thu thập được để tạo lập cơ sở dữ liệu; quy trình tạo lập, cung cấp sản phẩm tin tín dụng; lưu giữ dữ liệu, sản phẩm thông tin tín dụng.\\n7. Khả năng đứng vững và phát triển của công ty trên thị trường\\na) Phân tích và đánh giá thị trường thông tin tín dụng (thực trạng, thách thức và triển vọng);\\nb) Khả năng tham gia và cạnh tranh trên thị trường của công ty, trong đó chứng minh được lợi thế của công ty khi tham gia thị trường;\\nc) Chiến lược của công ty trong việc phát triển, mở rộng mạng lưới hoạt động, việc cung cấp và phát triển các sản phẩm thông tin tín dụng (phân tích rõ các sản phẩm dự kiến công ty sẽ cung cấp, loại khách hàng và số lượng khách hàng...).\\n8. Dự kiến kế hoạch hoạt động kinh doanh trong 03 năm đầu (trong đó tối thiểu phải bao gồm: Bảng tổng kết tài sản, báo cáo kết quả kinh doanh, việc bảo toàn vốn điều lệ, các chỉ tiêu về hiệu quả hoạt động) và thuyết minh khả năng thực hiện kế hoạch trong từng năm.\\nChúng tôi cam kết chấp hành nghiêm chỉnh các quy định của pháp luật, của Ngân hàng Nhà nước Việt Nam, nếu vi phạm xin chịu trách nhiệm trước pháp luật.\\nGhi chú:\\n- (1) Tên công ty thông tin tín dụng.\\n- Ngoài các nội dung tối thiểu trên, doanh nghiệp có thể trình bày thêm các nội dung khác nếu thấy cần thiết.\\nPHỤ LỤC VIII\\nMẪU CAM KẾT CUNG CẤP THÔNG TIN TÍN DỤNG CHO CÔNG TY THÔNG TIN TÍN DỤNG\\n(Kèm theo Nghị định số 58/2021/NĐ-CP ngày 10 tháng 6 năm 2021 của Chính phủ)\\nCAM KẾT CUNG CẤP THÔNG TIN TÍN DỤNG CHO CÔNG TY THÔNG TIN TÍN DỤNG\\nCăn cứ Nghị định số …./…/NĐ-CP ngày ... tháng ... năm ... của Chính phủ về hoạt động cung ứng dịch vụ thông tin tín dụng; xét khả năng và nhu cầu cung cấp, sử dụng thông tin tín dụng giữa các bên, (tên tổ chức tham gia ....) cam kết:\\n1. Không phải là tổ chức tham gia của các công ty thông tin tín dụng khác tính đến thời điểm ký cam kết.\\n2. Cung cấp trung thực, đầy đủ, kịp thời các thông tin tín dụng về khách hàng vay tại (tên tổ chức tham gia ...) cho (tên công ty thông tin tín dụng ...) theo văn bản thoả thuận số.... giữa các bên về quy trình thu thập, xử lý, lưu giữ và cung cấp thông tin tín dụng, khi (tên công ty thông tin tín dụng ...) được Ngân hàng Nhà nước Việt Nam cấp Giấy chứng nhận đủ điều kiện hoạt động cung ứng dịch vụ thông tin tín dụng.\\n3. Không cung cấp thông tin tín dụng về khách hàng vay tại (tên tổ chức tham gia ...) cho các công ty thông tin tín dụng khác.\\n4. Cam kết cung cấp thông tin này hết hiệu lực trong trường hợp (tên công ty thông tin tín dụng ...) không được cấp Giấy chứng nhận, hoặc công ty thông tin tín dụng chấm dứt hoạt động, hoặc theo sự thoả thuận giữa các bên.\\n(Tên tổ chức tham gia ...) cam kết chấp hành nghiêm chỉnh các quy định của pháp luật, của Ngân hàng Nhà nước Việt Nam và thỏa thuận giữa các bên, nếu vi phạm xin chịu trách nhiệm trước pháp luật.\\nGhi chú: Ngoài những nội dung tối thiểu trên, tổ chức tham gia có thể bổ sung thêm những nội dung khác nếu thấy cần thiết.\\nPHỤ LỤC IX\\nMẪU GIẤY CHỨNG NHẬN ĐỦ ĐIỀU KIỆN HOẠT ĐỘNG CUNG ỨNG DỊCH VỤ THÔNG TIN TÍN DỤNG\\n(Kèm theo Nghị định số 58/2021/NĐ-CP ngày 10 tháng 6 năm 2021 của Chính phủ)\\nPHỤ LỤC X\\nMẪU ĐƠN ĐỀ NGHỊ CẤP LẠI/THAY ĐỔI NỘI DUNG GIẤY CHỨNG NHẬN ĐỦ ĐIỀU KIỆN HOẠT ĐỘNG CUNG ỨNG DỊCH VỤ THÔNG TIN TÍN DỤNG\\n(Kèm theo Nghị định số 58/2021/NĐ-CP ngày 10 tháng 6 năm 2021 của Chính phủ)\\nĐƠN ĐỀ NGHỊ CẤP LẠI/THAY ĐỔI NỘI DUNG GIẤY CHỨNG NHẬN ĐỦ ĐIỀU KIỆN HOẠT ĐỘNG CUNG ỨNG DỊCH VỤ THÔNG TIN TÍN DỤNG\\nKính gửi: Ngân hàng Nhà nước Việt Nam.\\nCăn cứ Nghị định số ..../…../NĐ-CP ngày ... tháng ... năm ... của Chính phủ về hoạt động cung ứng dịch vụ thông tin tín dụng, Công ty thông tin tín dụng.... (1) đề nghị Ngân hàng Nhà nước Việt Nam xem xét cấp lại/thay đổi Giấy chứng nhận đủ điều kiện hoạt động cung ứng dịch vụ thông tin tín dụng sau đây:\\n1. Tên của công ty thông tin tín dụng: …………………………………………………………...\\n2. Số, ngày cấp Giấy chứng nhận đăng ký doanh nghiệp: ……………………………………\\n3. Giấy chứng nhận đủ điều kiện hoạt động cung ứng dịch vụ thông tin tín dụng số ... cấp lần đầu ngày .... tháng ... năm ... (số ... cấp lại lần thứ ... ngày ... tháng ... năm...).\\n4. Người đại diện theo pháp luật: ……………………… Chức danh: …………………………\\n5. Địa điểm đặt trụ sở chính, số điện thoại, số Fax, Email: ……………………………………\\n6. Lý do, sự cần thiết làm đơn đề nghị: ………………………………………………………….\\n7. Cam kết trước pháp luật\\n- Chúng tôi cam kết tiếp tục duy trì và đáp ứng đầy đủ các điều kiện hoạt động cung ứng dịch vụ thông tin tín dụng và không vi phạm các quy định của pháp luật, của Ngân hàng Nhà nước Việt Nam và Điều lệ công ty thông tin tín dụng...(1)...\\n- Chúng tôi cam kết những thông tin tại đơn đề nghị là đúng sự thật và chịu hoàn toàn trách nhiệm trước pháp luật đối với những thông tin này.\\nSau khi được cấp lại/thay đổi nội dung Giấy chứng nhận đủ điều kiện hoạt động cung ứng dịch vụ thông tin tín dụng, chúng tôi sẽ thực hiện việc công bố thông tin theo quy định của pháp luật.\\nGhi chú:\\n(1) Tên công ty thông tin tín dụng.\\nPHỤ LỤC XI\\nMẪU QUYẾT ĐỊNH VỀ VIỆC THAY ĐỔI NỘI DUNG TẠI GIẤY CHỨNG NHẬN\\n(Kèm theo Nghị định số 58/2021/NĐ-CP ngày 10 tháng 6 năm 2021 của Chính phủ)\\nQUYẾT ĐỊNH\\nVề việc thay đổi nội dung về …(1)… của Công ty thông tin tín dụng ...(2)...\\nTHỐNG ĐỐC NGÂN HÀNG NHÀ NƯỚC VIỆT NAM\\nCăn cứ Nghị định số 16/2017/NĐ-CP  ngày 17 tháng 02 năm 2017 của Chính phủ quy định chức năng, nhiệm vụ, quyền hạn và cơ cấu tổ chức của Ngân hàng Nhà nước Việt Nam (Văn bản sửa đổi, bổ sung, thay thế nếu có);\\nCăn cứ Nghị định số …/…./NĐ-CP ngày ... tháng ... năm ... của Chính phủ về hoạt động cung ứng dịch vụ thông tin tín dụng;\\nXét hồ sơ đề nghị thay đổi nội dung Giấy chứng nhận đủ điều kiện hoạt động cung ứng dịch vụ thông tin tín dụng của công ty thông tin tín dụng...;\\nTheo đề nghị của Chánh Thanh tra, giám sát ngân hàng.\\nQUYẾT ĐỊNH:'\n",
      " 'Tiêu chí đánh giá chất lượng ấn phẩm báo, tạp chí theo quy định của Bộ Thông tin và Truyền thông.\\na) Quy trình triển khai Thực hiện theo quy định tại Điều 13 Nghị định số 27/2022/NĐ-CP (được sửa đổi, bổ sung tại khoản 8 Điều 1 Nghị định số 38/2023/NĐ-CP); các Điều 14, 15, 16, 17 Nghị định số 27/2022/NĐ-CP; Điều 18 Nghị định số 27/2022/NĐ-CP (được sửa đổi bổ sung tại khoản 9 Điều 1 Nghị định số 38/2023/NĐ-CP) và các quy định có liên quan phù hợp với tình hình thực tế từng thôn, bản tại địa phương. a) Tổ chức khảo sát địa bàn, họp triển khai, tổ chức hội nghị, hội thảo, đối thoại, tọa đàm, giao lưu văn hóa, nói chuyện chuyên đề phục vụ nội dung hoạt động của mô hình.\\nb) Giao xã làm chủ đầu tư; đối với công trình phạm vi liên thôn, có kỹ thuật phức tạp giao UBND cấp tỉnh chỉ đạo thực hiện theo phân cấp quản lý; cộng đồng dân cư có trách nhiệm giám sát, đánh giá các công trình triển khai trên địa bàn.”. b) Thuê chuyên gia, cán bộ tư vấn, hỗ trợ nghiên cứu xây dựng, triển khai mô hình.\\nc) Thuê hoặc mua hàng hóa, vận chuyển, vật tư, nguyên liệu, công nghệ phục vụ xây dựng mô hình (các sản phẩm dinh dưỡng, dụng cụ, tài liệu, sách báo tham khảo).\\nd) Biên soạn, biên tập, cung cấp tài liệu, tập huấn về phương pháp, kỹ năng xây dựng và nhân rộng mô hình; viết bài, tuyên truyền qua hệ thống loa phát thanh của địa phương.\\nđ) Thành lập các câu lạc bộ; tổ chức sinh hoạt câu lạc bộ định kỳ theo nội dung mô hình lựa chọn (nếu có); tổ chức thực nghiệm/thực hành/trình diễn các mô hình; xây dựng các sản phẩm truyền thông, tuyên truyền trên các loại hình đa phương tiện, giới thiệu, quảng bá, đăng ký thương hiệu cho sản phẩm/hoạt động của mô hình (nếu có).\\ne) Hỗ trợ trực tiếp cho đối tượng tham gia mô hình; hỗ trợ các hoạt động chuyên môn của cơ sở triển khai mô hình; hỗ trợ kỹ thuật giữa các tuyến, tư vấn tại cộng đồng và triển khai các hoạt động khác theo hướng dẫn cụ thể của địa phương (nếu có).\\ng) Tổ chức kiểm tra, giám sát, đánh giá sơ kết, tổng kết mô hình.\\nh) Các hoạt động khác về quản lý, xây dựng, triển khai mô hình (nếu có) thực hiện theo quy định hiện hành và theo thực tế phát sinh được cấp có thẩm quyền phê duyệt mô hình quyết định.\\n5. Sửa đổi, bổ sung Điều 8 như sau: “Điều 8. Đối tượng 5. Trình tự, quy trình, mẫu hồ sơ, thủ tục và phê duyệt mô hình 5. Tổ chức thực hiện\\na) Đối với mô hình do Bộ, cơ quan trung ương thực hiện: Bộ trưởng, Thủ trưởng cơ quan trung ương quyết định hoặc ủy quyền cho Thủ trưởng cơ quan, đơn vị trực thuộc Bộ, cơ quan trung ương quyết định nội dung, trình tự, thủ tục và phê duyệt phương thức thực hiện.'\n",
      " 'Tiêu chí đánh giá chất lượng ấn phẩm báo, tạp chí theo quy định của Bộ Thông tin và Truyền thông.\\na) Quy trình triển khai Thực hiện theo quy định tại Điều 13 Nghị định số 27/2022/NĐ-CP (được sửa đổi, bổ sung tại khoản 8 Điều 1 Nghị định số 38/2023/NĐ-CP); các Điều 14, 15, 16, 17 Nghị định số 27/2022/NĐ-CP; Điều 18 Nghị định số 27/2022/NĐ-CP (được sửa đổi bổ sung tại khoản 9 Điều 1 Nghị định số 38/2023/NĐ-CP) và các quy định có liên quan phù hợp với tình hình thực tế từng thôn, bản tại địa phương. a) Tổ chức khảo sát địa bàn, họp triển khai, tổ chức hội nghị, hội thảo, đối thoại, tọa đàm, giao lưu văn hóa, nói chuyện chuyên đề phục vụ nội dung hoạt động của mô hình.\\nb) Giao xã làm chủ đầu tư; đối với công trình phạm vi liên thôn, có kỹ thuật phức tạp giao UBND cấp tỉnh chỉ đạo thực hiện theo phân cấp quản lý; cộng đồng dân cư có trách nhiệm giám sát, đánh giá các công trình triển khai trên địa bàn.”. b) Thuê chuyên gia, cán bộ tư vấn, hỗ trợ nghiên cứu xây dựng, triển khai mô hình.\\nc) Thuê hoặc mua hàng hóa, vận chuyển, vật tư, nguyên liệu, công nghệ phục vụ xây dựng mô hình (các sản phẩm dinh dưỡng, dụng cụ, tài liệu, sách báo tham khảo).\\nd) Biên soạn, biên tập, cung cấp tài liệu, tập huấn về phương pháp, kỹ năng xây dựng và nhân rộng mô hình; viết bài, tuyên truyền qua hệ thống loa phát thanh của địa phương.\\nđ) Thành lập các câu lạc bộ; tổ chức sinh hoạt câu lạc bộ định kỳ theo nội dung mô hình lựa chọn (nếu có); tổ chức thực nghiệm/thực hành/trình diễn các mô hình; xây dựng các sản phẩm truyền thông, tuyên truyền trên các loại hình đa phương tiện, giới thiệu, quảng bá, đăng ký thương hiệu cho sản phẩm/hoạt động của mô hình (nếu có).\\ne) Hỗ trợ trực tiếp cho đối tượng tham gia mô hình; hỗ trợ các hoạt động chuyên môn của cơ sở triển khai mô hình; hỗ trợ kỹ thuật giữa các tuyến, tư vấn tại cộng đồng và triển khai các hoạt động khác theo hướng dẫn cụ thể của địa phương (nếu có).\\ng) Tổ chức kiểm tra, giám sát, đánh giá sơ kết, tổng kết mô hình.\\nh) Các hoạt động khác về quản lý, xây dựng, triển khai mô hình (nếu có) thực hiện theo quy định hiện hành và theo thực tế phát sinh được cấp có thẩm quyền phê duyệt mô hình quyết định.\\n5. Sửa đổi, bổ sung Điều 8 như sau: “Điều 8. Đối tượng 5. Trình tự, quy trình, mẫu hồ sơ, thủ tục và phê duyệt mô hình 5. Tổ chức thực hiện\\na) Đối với mô hình do Bộ, cơ quan trung ương thực hiện: Bộ trưởng, Thủ trưởng cơ quan trung ương quyết định hoặc ủy quyền cho Thủ trưởng cơ quan, đơn vị trực thuộc Bộ, cơ quan trung ương quyết định nội dung, trình tự, thủ tục và phê duyệt phương thức thực hiện.'\n",
      " '1. Thông tin, dữ liệu, sản phẩm đo đạc và bản đồ là tài sản công được cung cấp, khai thác, sử dụng dưới dạng bản sao hoặc xuất bản phẩm. Tổ chức, cá nhân cung cấp thông tin, dữ liệu, sản phẩm đo đạc và bản đồ có trách nhiệm xác nhận nguồn gốc của bản sao theo Mẫu số 07 Phụ lục I kèm theo Nghị định này.\\n2. Thông tin, dữ liệu, sản phẩm đo đạc và bản đồ được quy định tại điểm đ khoản 3 Điều 41 của Luật Đo đạc và bản đồ được công bố và cung cấp rộng rãi cho cơ quan, tổ chức, cá nhân theo nhu cầu sử dụng.\\n3. Cá nhân yêu cầu cung cấp thông tin, dữ liệu, sản phẩm đo đạc và bản đồ phải xuất trình thẻ căn cước công dân hoặc hộ chiếu hoặc Chứng minh nhân dân; người đại diện cơ quan, tổ chức đến giao dịch yêu cầu cung cấp thông tin, dữ liệu, sản phẩm đo đạc và bản đồ phải xuất trình thẻ Căn cước công dân hoặc hộ chiếu hoặc Chứng minh nhân dân và giấy giới thiệu hoặc công văn của cơ quan, tổ chức; phiếu yêu cầu cung cấp thông tin, dữ liệu, sản phẩm đo đạc và bản đồ cho tổ chức cung cấp thông tin, dữ liệu, sản phẩm đo đạc và bản đồ theo Mẫu số 08 Phụ lục I ban hành kèm theo Nghị định này.\\n4. Khi cung cấp qua mạng Internet đối với thông tin, dữ liệu, sản phẩm đo đạc và bản đồ không thuộc Danh mục bí mật nhà nước thì bên yêu cầu cung cấp thông tin, dữ liệu, sản phẩm đo đạc và bản đồ gửi tệp tin chứa giấy giới thiệu hoặc công văn của cơ quan, tổ chức; tệp tin chứa phiếu yêu cầu cung cấp thông tin, dữ liệu, sản phẩm đo đạc và bản đồ và ký bằng chữ ký số; trường hợp không có chữ ký số thì bên yêu cầu cung cấp thông tin, dữ liệu, sản phẩm đo đạc và bản đồ phải xuất trình thẻ Căn cước công dân, hoặc hộ chiếu hoặc Chứng minh nhân dân khi làm thủ tục mở tài khoản giao dịch trực tuyến, đồng thời cung cấp số điện thoại di động để bên cung cấp gửi mã xác nhận giao dịch.\\n5. Việc cung cấp thông tin, dữ liệu, sản phẩm đo đạc và bản đồ thuộc Danh mục bí mật nhà nước cho cơ quan, tổ chức, cá nhân được thực hiện theo quy định của pháp luật về bảo vệ bí mật nhà nước.\\n6. Cơ quan, tổ chức quy định tại khoản 5 Điều này đề nghị cung cấp thông tin, dữ liệu, sản phẩm đo đạc và bản đồ thuộc Danh mục bí mật nhà nước phải có văn bản gửi người có thẩm quyền quy định tại khoản 8 Điều này. Văn bản ghi rõ tên cơ quan, tổ chức; người đại diện cơ quan, tổ chức; thông tin, dữ liệu, sản phẩm đo đạc và bản đồ thuộc Danh mục bí mật nhà nước đề nghị cung cấp; mục đích sử dụng; cam kết bảo vệ bí mật nhà nước.\\n7. Cá nhân đề nghị cung cấp thông tin, dữ liệu, sản phẩm đo đạc và bản đồ thuộc Danh mục bí mật nhà nước phải có văn bản gửi người có thẩm quyền quy định tại khoản 8 Điều này. Văn bản ghi rõ họ và tên; số thẻ Căn cước công dân hoặc Chứng minh nhân dân hoặc hộ chiếu hoặc Giấy chứng minh Công an nhân dân hoặc Giấy chứng minh Quân đội nhân dân cấp; địa chỉ liên lạc; hoặc chức vụ; thông tin, dữ liệu, sản phẩm đo đạc và bản đồ thuộc Danh mục bí mật nhà nước đề nghị cung cấp; mục đích sử dụng; cam kết bảo vệ bí mật nhà nước.\\n8. Người có thẩm quyền quyết định việc cung cấp thông tin, dữ liệu, sản phẩm đo đạc và bản đồ thuộc Danh mục bí mật nhà nước thực hiện theo quy định của pháp luật về bảo vệ bí mật nhà nước.\\n9. Khi nhận đủ hồ sơ yêu cầu cung cấp thông tin, dữ liệu, sản phẩm đo đạc và bản đồ theo quy định, cơ quan, tổ chức được giao cung cấp thông tin, dữ liệu, sản phẩm đo đạc và bản đồ có trách nhiệm cung cấp ngay trong ngày làm việc hoặc theo thời gian thống nhất với bên yêu cầu cung cấp. Trường hợp từ chối cung cấp thông tin, dữ liệu, sản phẩm thì cơ quan, tổ chức được giao cung cấp phải trả lời bằng văn bản cho cơ quan, tổ chức, cá nhân lý do không cung cấp.']\n"
     ]
    }
   ],
   "source": [
    "print(texts)"
   ]
  },
  {
   "cell_type": "code",
   "execution_count": 35,
   "metadata": {},
   "outputs": [
    {
     "name": "stdout",
     "output_type": "stream",
     "text": [
      "d) Không được thay đổi,\n",
      "theo thẩm quyền;\n",
      "Tối\n",
      "Tối\n",
      "trực tiếp hoặc gửi qua đường bưu điện đến cơ quan có thẩm quyền\n",
      "cấp huyện, cấp tỉnh theo quy định của Ủy ban nhân dân cấp tỉnh.\n",
      "PHỤ LỤC V\n",
      "quy định hiện hành và theo thực tế phát sinh được cấp có\n",
      "quy định hiện hành và theo thực tế phát sinh được cấp có\n",
      "tuyến,\n"
     ]
    }
   ],
   "source": [
    "for answer in curr_answers:\n",
    "    print(answer)"
   ]
  },
  {
   "cell_type": "code",
   "execution_count": 15,
   "metadata": {},
   "outputs": [
    {
     "data": {
      "application/vnd.jupyter.widget-view+json": {
       "model_id": "b3dbac6728f94776b27e4aeda990a04c",
       "version_major": 2,
       "version_minor": 0
      },
      "text/plain": [
       "  0%|          | 0/10000 [00:00<?, ?it/s]"
      ]
     },
     "metadata": {},
     "output_type": "display_data"
    },
    {
     "ename": "KeyboardInterrupt",
     "evalue": "",
     "output_type": "error",
     "traceback": [
      "\u001b[1;31m---------------------------------------------------------------------------\u001b[0m",
      "\u001b[1;31mKeyboardInterrupt\u001b[0m                         Traceback (most recent call last)",
      "Cell \u001b[1;32mIn[15], line 5\u001b[0m\n\u001b[0;32m      3\u001b[0m test_id \u001b[38;5;241m=\u001b[39m row[\u001b[38;5;124m\"\u001b[39m\u001b[38;5;124mqid\u001b[39m\u001b[38;5;124m\"\u001b[39m]\n\u001b[0;32m      4\u001b[0m question \u001b[38;5;241m=\u001b[39m row[\u001b[38;5;124m\"\u001b[39m\u001b[38;5;124mquestion\u001b[39m\u001b[38;5;124m\"\u001b[39m]\n\u001b[1;32m----> 5\u001b[0m _, cids, _, _ \u001b[38;5;241m=\u001b[39m \u001b[43mget_answer_e2e\u001b[49m\u001b[43m(\u001b[49m\u001b[43mquestion\u001b[49m\u001b[43m)\u001b[49m\n\u001b[0;32m      7\u001b[0m res \u001b[38;5;241m=\u001b[39m [test_id]\n\u001b[0;32m      8\u001b[0m \u001b[38;5;28;01mfor\u001b[39;00m cid \u001b[38;5;129;01min\u001b[39;00m cids:\n",
      "Cell \u001b[1;32mIn[6], line 10\u001b[0m, in \u001b[0;36mget_answer_e2e\u001b[1;34m(question)\u001b[0m\n\u001b[0;32m      8\u001b[0m \u001b[38;5;66;03m# Reranking with pairwise model for top100\u001b[39;00m\n\u001b[0;32m      9\u001b[0m question \u001b[38;5;241m=\u001b[39m preprocess(question)\n\u001b[1;32m---> 10\u001b[0m ranking_preds \u001b[38;5;241m=\u001b[39m \u001b[43mpairwise_model_stage1\u001b[49m\u001b[38;5;241;43m.\u001b[39;49m\u001b[43mstage1_ranking\u001b[49m\u001b[43m(\u001b[49m\u001b[43mquestion\u001b[49m\u001b[43m,\u001b[49m\u001b[43m \u001b[49m\u001b[43mtexts\u001b[49m\u001b[43m)\u001b[49m\n\u001b[0;32m     11\u001b[0m ranking_scores \u001b[38;5;241m=\u001b[39m ranking_preds \u001b[38;5;241m*\u001b[39m bm25_scores\n\u001b[0;32m     12\u001b[0m best_idxs \u001b[38;5;241m=\u001b[39m np\u001b[38;5;241m.\u001b[39margsort(ranking_scores)[::\u001b[38;5;241m-\u001b[39m\u001b[38;5;241m1\u001b[39m][:\u001b[38;5;241m100\u001b[39m]\n",
      "File \u001b[1;32me:\\work\\projects\\hackathon\\legal\\pairwise_model.py:55\u001b[0m, in \u001b[0;36mPairwiseModel.stage1_ranking\u001b[1;34m(self, question, texts)\u001b[0m\n\u001b[0;32m     53\u001b[0m bar \u001b[38;5;241m=\u001b[39m \u001b[38;5;28menumerate\u001b[39m(valid_loader)\n\u001b[0;32m     54\u001b[0m \u001b[38;5;28;01mfor\u001b[39;00m step, data \u001b[38;5;129;01min\u001b[39;00m bar:\n\u001b[1;32m---> 55\u001b[0m     ids \u001b[38;5;241m=\u001b[39m \u001b[43mdata\u001b[49m\u001b[43m[\u001b[49m\u001b[38;5;124;43m\"\u001b[39;49m\u001b[38;5;124;43mids\u001b[39;49m\u001b[38;5;124;43m\"\u001b[39;49m\u001b[43m]\u001b[49m\u001b[38;5;241;43m.\u001b[39;49m\u001b[43mto\u001b[49m\u001b[43m(\u001b[49m\u001b[38;5;28;43mself\u001b[39;49m\u001b[38;5;241;43m.\u001b[39;49m\u001b[43mdevice\u001b[49m\u001b[43m)\u001b[49m\n\u001b[0;32m     56\u001b[0m     masks \u001b[38;5;241m=\u001b[39m data[\u001b[38;5;124m\"\u001b[39m\u001b[38;5;124mmasks\u001b[39m\u001b[38;5;124m\"\u001b[39m]\u001b[38;5;241m.\u001b[39mto(\u001b[38;5;28mself\u001b[39m\u001b[38;5;241m.\u001b[39mdevice)\n\u001b[0;32m     57\u001b[0m     preds\u001b[38;5;241m.\u001b[39mappend(torch\u001b[38;5;241m.\u001b[39msigmoid(\u001b[38;5;28mself\u001b[39m(ids, masks))\u001b[38;5;241m.\u001b[39mview(\u001b[38;5;241m-\u001b[39m\u001b[38;5;241m1\u001b[39m))\n",
      "\u001b[1;31mKeyboardInterrupt\u001b[0m: "
     ]
    }
   ],
   "source": [
    "results = []\n",
    "for i, row in tqdm(test_df.iterrows(), total=test_df.shape[0]):\n",
    "    test_id = row[\"qid\"]\n",
    "    question = row[\"question\"]\n",
    "    _, cids, _, _ = get_answer_e2e(question)\n",
    "\n",
    "    res = [test_id]\n",
    "    for cid in cids:\n",
    "        res.append(cid)\n",
    "\n",
    "    results.append(\" \".join([str(r) for r in res]) + \"\\n\")\n",
    "\n",
    "# Lưu kết quả vào tệp\n",
    "with open(model_name.replace(\"/\", \"_\") + \"top{}.predict.txt\".format(topk), \"w\") as f:\n",
    "    f.writelines(results)"
   ]
  }
 ],
 "metadata": {
  "kernelspec": {
   "display_name": "env",
   "language": "python",
   "name": "python3"
  },
  "language_info": {
   "codemirror_mode": {
    "name": "ipython",
    "version": 3
   },
   "file_extension": ".py",
   "mimetype": "text/x-python",
   "name": "python",
   "nbconvert_exporter": "python",
   "pygments_lexer": "ipython3",
   "version": "3.9.13"
  }
 },
 "nbformat": 4,
 "nbformat_minor": 2
}
