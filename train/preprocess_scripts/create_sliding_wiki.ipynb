{
 "cells": [
  {
   "cell_type": "code",
   "execution_count": 1,
   "id": "d380af40-c49c-403a-b2a0-642cedc1f95c",
   "metadata": {},
   "outputs": [],
   "source": [
    "import os\n",
    "import json\n",
    "import regex as re\n",
    "from tqdm.auto import tqdm\n",
    "tqdm.pandas()\n",
    "import math\n",
    "import pandas as pd\n",
    "import string\n",
    "from pyvi.ViTokenizer import tokenize"
   ]
  },
  {
   "cell_type": "code",
   "execution_count": 2,
   "id": "af8e26f6-1b51-477e-b1f7-803a59d2fd6f",
   "metadata": {},
   "outputs": [],
   "source": [
    "_WORD_SPLIT = re.compile(\"([.,!?\\\"/':;)(])\")\n",
    "_DIGIT_RE = re.compile(br\"\\d\")\n",
    "STOP_WORDS = \"\\\" \\' [ ] . , ! : ; ?\".split(\" \")\n",
    "\n",
    "def basic_tokenizer(sentence):\n",
    "    \"\"\"Very basic tokenizer: split the sentence into a list of tokens.\"\"\"\n",
    "    words = []\n",
    "    for space_separated_fragment in sentence.strip().split():\n",
    "        words.extend(_WORD_SPLIT.split(space_separated_fragment))\n",
    "        # return [w.lower() for w in words if w not in stop_words and w != '' and w != ' ']\n",
    "    return [w.lower() for w in words if w != '' and w != ' ' and w not in string.punctuation]\n",
    "\n",
    "def create_sliding_window(text, size=256, overlap=32):\n",
    "    actual_size = size - overlap\n",
    "    windows = []\n",
    "    n_windows = math.ceil(len(text)/actual_size)\n",
    "    for i in range(n_windows):\n",
    "        windows.append(\" \".join(text[i*actual_size:i*actual_size + size]))\n",
    "    return windows"
   ]
  },
  {
   "cell_type": "code",
   "execution_count": null,
   "id": "eb536fba",
   "metadata": {},
   "outputs": [],
   "source": [
    "data_path = \"../../legal\"\n",
    "corpus_df = pd.read_csv(os.path.join(data_path, \"corpus.csv\"))"
   ]
  },
  {
   "cell_type": "code",
   "execution_count": null,
   "id": "99214a96-5803-4ffa-9f88-692a6c14eeb0",
   "metadata": {},
   "outputs": [
    {
     "data": {
      "application/vnd.jupyter.widget-view+json": {
       "model_id": "ff1a0e334ca14e649f0e73ed8f0635e3",
       "version_major": 2,
       "version_minor": 0
      },
      "text/plain": [
       "  0%|          | 0/261597 [00:00<?, ?it/s]"
      ]
     },
     "metadata": {},
     "output_type": "display_data"
    }
   ],
   "source": [
    "all_texts = []\n",
    "all_bm25_texts = []\n",
    "all_cids = []\n",
    "all_index = []\n",
    "for i, row in tqdm(corpus_df.iterrows(), total=corpus_df.shape[0]):\n",
    "    text = row[\"text\"].split(\" \")\n",
    "    cid = row[\"cid\"]\n",
    "    sliding_windows = create_sliding_window(text, size=256)\n",
    "    bm25_windows = [\" \".join(basic_tokenizer(w)) for w in sliding_windows]\n",
    "    all_texts.extend(sliding_windows)\n",
    "    all_bm25_texts.extend(bm25_windows)\n",
    "    all_cids.extend([cid] * len(sliding_windows))\n",
    "    all_index.extend([i] * len(sliding_windows))"
   ]
  },
  {
   "cell_type": "code",
   "execution_count": 5,
   "id": "9ac0a242-cc03-4009-b049-801db7c419f3",
   "metadata": {},
   "outputs": [],
   "source": [
    "df = pd.DataFrame()\n",
    "df[\"cid\"] = all_cids\n",
    "df[\"text\"] = all_texts\n",
    "df[\"bm25_text\"] = all_bm25_texts\n",
    "df[\"i\"] = all_index"
   ]
  },
  {
   "cell_type": "code",
   "execution_count": null,
   "id": "f19944a6-3d1b-413b-aef4-ce462b8328e2",
   "metadata": {},
   "outputs": [],
   "source": [
    "# from pandarallel import pandarallel\n",
    "\n",
    "# pandarallel.initialize(progress_bar=True, use_memory_fs=False, nb_workers=4)\n",
    "# df[\"bm25_text\"] = df[\"text\"].parallel_apply(lambda x: \" \".join(basic_tokenizer(x)))"
   ]
  },
  {
   "cell_type": "code",
   "execution_count": 6,
   "id": "b1107dae-3daf-427d-9070-2706412b37a9",
   "metadata": {},
   "outputs": [],
   "source": [
    "df.to_csv(\"../processed/lagal_2024_10_31_cleaned_v2.csv\",index=False)"
   ]
  },
  {
   "cell_type": "code",
   "execution_count": null,
   "id": "2ef647fe-047f-4d1b-a2cb-558e194cc34d",
   "metadata": {},
   "outputs": [],
   "source": []
  }
 ],
 "metadata": {
  "kernelspec": {
   "display_name": "env",
   "language": "python",
   "name": "python3"
  },
  "language_info": {
   "codemirror_mode": {
    "name": "ipython",
    "version": 3
   },
   "file_extension": ".py",
   "mimetype": "text/x-python",
   "name": "python",
   "nbconvert_exporter": "python",
   "pygments_lexer": "ipython3",
   "version": "3.9.13"
  }
 },
 "nbformat": 4,
 "nbformat_minor": 5
}
