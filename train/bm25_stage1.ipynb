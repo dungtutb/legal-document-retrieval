{
 "cells": [
  {
   "cell_type": "code",
   "execution_count": 1,
   "id": "8032eaea-4bfa-4028-bba4-9500611877cf",
   "metadata": {},
   "outputs": [
    {
     "name": "stdout",
     "output_type": "stream",
     "text": [
      "INFO: Pandarallel will run on 10 workers.\n",
      "INFO: Pandarallel will use standard multiprocessing data transfer (pipe) to transfer data between the main process and workers.\n",
      "\n",
      "WARNING: You are on Windows. If you detect any issue with pandarallel, be sure you checked out the Troubleshooting page:\n",
      "https://nalepae.github.io/pandarallel/troubleshooting/\n"
     ]
    }
   ],
   "source": [
    "import os\n",
    "import json\n",
    "import json\n",
    "import regex as re\n",
    "from tqdm.auto import tqdm\n",
    "tqdm.pandas()\n",
    "import math\n",
    "import pandas as pd\n",
    "import string\n",
    "from pyvi.ViTokenizer import tokenize\n",
    "import pandas as pd\n",
    "import numpy as np\n",
    "import json, pickle\n",
    "from rank_bm25 import BM25Okapi\n",
    "import argparse\n",
    "import gc\n",
    "from tqdm.auto import tqdm\n",
    "tqdm.pandas()\n",
    "import regex as re\n",
    "import string\n",
    "\n",
    "import json \n",
    "from glob import glob \n",
    "import re \n",
    "from nltk import word_tokenize as lib_tokenizer \n",
    "import string\n",
    "\n",
    "from pandarallel import pandarallel\n",
    "from gensim.corpora import Dictionary\n",
    "from gensim.models import TfidfModel, OkapiBM25Model\n",
    "from gensim.similarities import SparseMatrixSimilarity\n",
    "import numpy as np\n",
    "pandarallel.initialize(progress_bar=True, use_memory_fs=False, nb_workers=10)"
   ]
  },
  {
   "cell_type": "code",
   "execution_count": 2,
   "id": "d3b2907e-93f5-49b6-b03e-5585acc8e8ce",
   "metadata": {},
   "outputs": [],
   "source": [
    "def post_process(x):\n",
    "    x = \" \".join(word_tokenize(strip_context(x))).strip()\n",
    "    x = x.replace(\"\\n\",\" \")\n",
    "    x = \"\".join([i for i in x if i not in string.punctuation])\n",
    "    return x\n",
    "\n",
    "dict_map = dict({})  \n",
    "def word_tokenize(text): \n",
    "    global dict_map \n",
    "    words = text.split() \n",
    "    words_norm = [] \n",
    "    for w in words: \n",
    "        if dict_map.get(w, None) is None: \n",
    "            dict_map[w] = ' '.join(lib_tokenizer(w)).replace('``', '\"').replace(\"''\", '\"') \n",
    "        words_norm.append(dict_map[w]) \n",
    "    return words_norm \n",
    " \n",
    " \n",
    "def strip_context(text): \n",
    "    text = text.replace('\\n', ' ') \n",
    "    text = re.sub(r'\\s+', ' ', text) \n",
    "    text = text.strip() \n",
    "    return text"
   ]
  },
  {
   "cell_type": "code",
   "execution_count": 3,
   "id": "3b65f394-31db-4da5-98f8-d937ff1c138e",
   "metadata": {},
   "outputs": [],
   "source": [
    "wiki_cleaned_path = \"./processed/lagal_2024_10_31_cleaned_v2.csv\""
   ]
  },
  {
   "cell_type": "code",
   "execution_count": 4,
   "id": "d8fb5933-b68e-4d75-b166-e60245125e3f",
   "metadata": {},
   "outputs": [],
   "source": [
    "df_wiki = pd.read_csv(wiki_cleaned_path)"
   ]
  },
  {
   "cell_type": "code",
   "execution_count": 5,
   "id": "fb60da89-8e60-4a7c-9b83-f38e70c009cf",
   "metadata": {},
   "outputs": [],
   "source": [
    "df_wiki = df_wiki.fillna(\"NaN\")"
   ]
  },
  {
   "cell_type": "code",
   "execution_count": 6,
   "id": "2d0016f4",
   "metadata": {},
   "outputs": [
    {
     "data": {
      "text/plain": [
       "(411210, 4)"
      ]
     },
     "execution_count": 6,
     "metadata": {},
     "output_type": "execute_result"
    }
   ],
   "source": [
    "df_wiki.shape"
   ]
  },
  {
   "cell_type": "code",
   "execution_count": 7,
   "id": "c980e340",
   "metadata": {},
   "outputs": [
    {
     "data": {
      "application/vnd.jupyter.widget-view+json": {
       "model_id": "b4a6d9ab33d046278dcb3e13527a6e4c",
       "version_major": 2,
       "version_minor": 0
      },
      "text/plain": [
       "  0%|          | 0/411210 [00:00<?, ?it/s]"
      ]
     },
     "metadata": {},
     "output_type": "display_data"
    }
   ],
   "source": [
    "all_bm25_texts = []\n",
    "for i, row in tqdm(df_wiki.iterrows(), total=df_wiki.shape[0]):\n",
    "    bm25_text = post_process(row[\"bm25_text\"].lower())\n",
    "    all_bm25_texts.append(bm25_text)\n",
    "df_wiki[\"bm25_text\"] = all_bm25_texts"
   ]
  },
  {
   "cell_type": "code",
   "execution_count": 8,
   "id": "36de4995",
   "metadata": {},
   "outputs": [
    {
     "data": {
      "text/html": [
       "<div>\n",
       "<style scoped>\n",
       "    .dataframe tbody tr th:only-of-type {\n",
       "        vertical-align: middle;\n",
       "    }\n",
       "\n",
       "    .dataframe tbody tr th {\n",
       "        vertical-align: top;\n",
       "    }\n",
       "\n",
       "    .dataframe thead th {\n",
       "        text-align: right;\n",
       "    }\n",
       "</style>\n",
       "<table border=\"1\" class=\"dataframe\">\n",
       "  <thead>\n",
       "    <tr style=\"text-align: right;\">\n",
       "      <th></th>\n",
       "      <th>cid</th>\n",
       "      <th>text</th>\n",
       "      <th>bm25_text</th>\n",
       "      <th>i</th>\n",
       "    </tr>\n",
       "  </thead>\n",
       "  <tbody>\n",
       "    <tr>\n",
       "      <th>0</th>\n",
       "      <td>0</td>\n",
       "      <td>Thông tư này hướng dẫn tuần tra, canh gác bảo ...</td>\n",
       "      <td>thông tư này hướng dẫn tuần tra canh gác bảo v...</td>\n",
       "      <td>0</td>\n",
       "    </tr>\n",
       "    <tr>\n",
       "      <th>1</th>\n",
       "      <td>1</td>\n",
       "      <td>1. Hàng năm trước mùa mưa, lũ, Ủy ban nhân dân...</td>\n",
       "      <td>1 hàng năm trước mùa mưa lũ ủy ban nhân dân cấ...</td>\n",
       "      <td>1</td>\n",
       "    </tr>\n",
       "    <tr>\n",
       "      <th>2</th>\n",
       "      <td>2</td>\n",
       "      <td>Tiêu chuẩn của các thành viên thuộc lực lượng ...</td>\n",
       "      <td>tiêu chuẩn của các thành viên thuộc lực lượng ...</td>\n",
       "      <td>2</td>\n",
       "    </tr>\n",
       "    <tr>\n",
       "      <th>3</th>\n",
       "      <td>3</td>\n",
       "      <td>Nhiệm vụ của lực lượng tuần tra, canh gác đê\\n...</td>\n",
       "      <td>nhiệm vụ của lực lượng tuần tra canh gác đê 1 ...</td>\n",
       "      <td>3</td>\n",
       "    </tr>\n",
       "    <tr>\n",
       "      <th>4</th>\n",
       "      <td>4</td>\n",
       "      <td>Phù hiệu của lực lượng tuần tra, canh gác đê\\n...</td>\n",
       "      <td>phù hiệu của lực lượng tuần tra canh gác đê ph...</td>\n",
       "      <td>4</td>\n",
       "    </tr>\n",
       "    <tr>\n",
       "      <th>...</th>\n",
       "      <td>...</td>\n",
       "      <td>...</td>\n",
       "      <td>...</td>\n",
       "      <td>...</td>\n",
       "    </tr>\n",
       "    <tr>\n",
       "      <th>411205</th>\n",
       "      <td>645443</td>\n",
       "      <td>phát sóng vô tuyến điện của Tổ chức Công ước t...</td>\n",
       "      <td>phát sóng vô tuyến điện của tổ chức công ước t...</td>\n",
       "      <td>261594</td>\n",
       "    </tr>\n",
       "    <tr>\n",
       "      <th>411206</th>\n",
       "      <td>645445</td>\n",
       "      <td>Chương VI. . ĐIỀU KHOẢN THI HÀNH\\nĐiều 38. Quy...</td>\n",
       "      <td>chương vi điều khoản thi hành điều 38 quy định...</td>\n",
       "      <td>261595</td>\n",
       "    </tr>\n",
       "    <tr>\n",
       "      <th>411207</th>\n",
       "      <td>645445</td>\n",
       "      <td>tục nhập khẩu.\\n5. Cơ sở sản xuất, kinh doanh ...</td>\n",
       "      <td>tục nhập khẩu 5 cơ sở sản xuất kinh doanh hóa ...</td>\n",
       "      <td>261595</td>\n",
       "    </tr>\n",
       "    <tr>\n",
       "      <th>411208</th>\n",
       "      <td>645445</td>\n",
       "      <td>tàng trữ, sử dụng và phá hủy vũ khí hóa học;\\n...</td>\n",
       "      <td>tàng trữ sử dụng và phá hủy vũ khí hóa học b đ...</td>\n",
       "      <td>261595</td>\n",
       "    </tr>\n",
       "    <tr>\n",
       "      <th>411209</th>\n",
       "      <td>645446</td>\n",
       "      <td>c) Điều 12 và 13 Nghị định số 08/2018/NĐ-CP ng...</td>\n",
       "      <td>c điều 12 và 13 nghị định số 08 2018 nđcp ngày...</td>\n",
       "      <td>261596</td>\n",
       "    </tr>\n",
       "  </tbody>\n",
       "</table>\n",
       "<p>411210 rows × 4 columns</p>\n",
       "</div>"
      ],
      "text/plain": [
       "           cid                                               text  \\\n",
       "0            0  Thông tư này hướng dẫn tuần tra, canh gác bảo ...   \n",
       "1            1  1. Hàng năm trước mùa mưa, lũ, Ủy ban nhân dân...   \n",
       "2            2  Tiêu chuẩn của các thành viên thuộc lực lượng ...   \n",
       "3            3  Nhiệm vụ của lực lượng tuần tra, canh gác đê\\n...   \n",
       "4            4  Phù hiệu của lực lượng tuần tra, canh gác đê\\n...   \n",
       "...        ...                                                ...   \n",
       "411205  645443  phát sóng vô tuyến điện của Tổ chức Công ước t...   \n",
       "411206  645445  Chương VI. . ĐIỀU KHOẢN THI HÀNH\\nĐiều 38. Quy...   \n",
       "411207  645445  tục nhập khẩu.\\n5. Cơ sở sản xuất, kinh doanh ...   \n",
       "411208  645445  tàng trữ, sử dụng và phá hủy vũ khí hóa học;\\n...   \n",
       "411209  645446  c) Điều 12 và 13 Nghị định số 08/2018/NĐ-CP ng...   \n",
       "\n",
       "                                                bm25_text       i  \n",
       "0       thông tư này hướng dẫn tuần tra canh gác bảo v...       0  \n",
       "1       1 hàng năm trước mùa mưa lũ ủy ban nhân dân cấ...       1  \n",
       "2       tiêu chuẩn của các thành viên thuộc lực lượng ...       2  \n",
       "3       nhiệm vụ của lực lượng tuần tra canh gác đê 1 ...       3  \n",
       "4       phù hiệu của lực lượng tuần tra canh gác đê ph...       4  \n",
       "...                                                   ...     ...  \n",
       "411205  phát sóng vô tuyến điện của tổ chức công ước t...  261594  \n",
       "411206  chương vi điều khoản thi hành điều 38 quy định...  261595  \n",
       "411207  tục nhập khẩu 5 cơ sở sản xuất kinh doanh hóa ...  261595  \n",
       "411208  tàng trữ sử dụng và phá hủy vũ khí hóa học b đ...  261595  \n",
       "411209  c điều 12 và 13 nghị định số 08 2018 nđcp ngày...  261596  \n",
       "\n",
       "[411210 rows x 4 columns]"
      ]
     },
     "execution_count": 8,
     "metadata": {},
     "output_type": "execute_result"
    }
   ],
   "source": [
    "df_wiki"
   ]
  },
  {
   "cell_type": "code",
   "execution_count": null,
   "id": "7e30b687-eff8-4de5-bff4-680b1289475f",
   "metadata": {},
   "outputs": [],
   "source": [
    "# df_wiki['bm25_text'] = df_wiki['bm25_text'].apply(lambda x: x.lower()).parallel_apply(post_process)\n",
    "corpus = [x.split() for x in df_wiki['bm25_text'].values]\n",
    "dictionary = Dictionary(corpus)\n",
    "bm25_model = OkapiBM25Model(dictionary=dictionary)\n",
    "bm25_corpus = bm25_model[list(map(dictionary.doc2bow, corpus))]\n",
    "bm25_index = SparseMatrixSimilarity(bm25_corpus, num_docs=len(corpus), num_terms=len(dictionary),normalize_queries=False, normalize_documents=False)\n",
    "tfidf_model = TfidfModel(dictionary=dictionary, smartirs='bnn')  # Enforce binary weighting of queries"
   ]
  },
  {
   "cell_type": "code",
   "execution_count": 10,
   "id": "985b97c4",
   "metadata": {},
   "outputs": [],
   "source": [
    "os.makedirs(\"./processed/bm25_stage1\",exist_ok=True)\n",
    "dictionary.save(\"./processed/bm25_stage1/dict\")\n",
    "tfidf_model.save(\"./processed/bm25_stage1/tfidf\")\n",
    "bm25_index.save(\"./processed/bm25_stage1/bm25_index\")"
   ]
  }
 ],
 "metadata": {
  "kernelspec": {
   "display_name": "env",
   "language": "python",
   "name": "python3"
  },
  "language_info": {
   "codemirror_mode": {
    "name": "ipython",
    "version": 3
   },
   "file_extension": ".py",
   "mimetype": "text/x-python",
   "name": "python",
   "nbconvert_exporter": "python",
   "pygments_lexer": "ipython3",
   "version": "3.9.13"
  }
 },
 "nbformat": 4,
 "nbformat_minor": 5
}
